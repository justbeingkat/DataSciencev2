{
 "cells": [
  {
   "cell_type": "markdown",
   "source": [
    "5.3.1 Text Classification\n",
    "• Design and implement a system to recommend a conference to a researcher given the title of his new\n",
    "article.\n",
    "• The system should use the provided Conference Proceedings training data. You should implement\n",
    "the sub-tasks (feature extraction, dimensionality reduction, and classifier) by yourself.\n",
    "• You are free to select the algorithms you prefer for each sub-task. However, it is recommended that\n",
    "you test and compare multiple methods.\n",
    "• Evaluate you system on the training set by using the cross-validation approach. Provide the confusion\n",
    "matrix of your system output.\n",
    "• Evaluation should be done in terms of Micro-average precision, recall and F1 measures.\n",
    "• Once you found the best model on the training set, evaluate your model on the test set and report the\n",
    "results."
   ],
   "metadata": {
    "collapsed": false
   },
   "id": "26b33ef2b8a38761"
  },
  {
   "cell_type": "code",
   "outputs": [],
   "source": [
    "import pandas as pd\n",
    "from sklearn.feature_extraction.text import TfidfVectorizer\n",
    "from sklearn.svm import SVC"
   ],
   "metadata": {
    "collapsed": true,
    "ExecuteTime": {
     "end_time": "2024-01-16T10:14:47.818379Z",
     "start_time": "2024-01-16T10:14:47.056907Z"
    }
   },
   "id": "initial_id",
   "execution_count": 11
  },
  {
   "cell_type": "code",
   "outputs": [],
   "source": [
    "train_data = pd.read_csv('DBLPTrainset.txt', sep='\\t', header=None, names=['ID', 'Conference', 'Title'])\n",
    "test_data = pd.read_csv('DBLPTestset.txt', sep='\\t', header=None, names=['ID', 'Title'])\n",
    "ground_truth_labels = pd.read_csv('DBLPTestGroundTruth.txt', sep='\\t', header=None, names=['ID', 'Conference'])"
   ],
   "metadata": {
    "collapsed": false,
    "ExecuteTime": {
     "end_time": "2024-01-16T10:20:06.802458Z",
     "start_time": "2024-01-16T10:20:06.739243Z"
    }
   },
   "id": "926ea59326c1df4d",
   "execution_count": 28
  },
  {
   "cell_type": "code",
   "outputs": [],
   "source": [
    "# TF-IDF Vectorization for both training and test sets\n",
    "tfidf_Vectorizer = TfidfVectorizer(stop_words='english')\n",
    "X_train = tfidf_Vectorizer.fit_transform(train_data['Title'])\n",
    "y_train = train_data['Conference']\n",
    "\n",
    "X_test = tfidf_Vectorizer.transform(test_data['Title'])"
   ],
   "metadata": {
    "collapsed": false,
    "ExecuteTime": {
     "end_time": "2024-01-16T10:20:08.227605Z",
     "start_time": "2024-01-16T10:20:07.763307Z"
    }
   },
   "id": "d0051bdafe57b587",
   "execution_count": 29
  },
  {
   "cell_type": "code",
   "outputs": [
    {
     "data": {
      "text/plain": "SVC(kernel='linear')",
      "text/html": "<style>#sk-container-id-3 {color: black;}#sk-container-id-3 pre{padding: 0;}#sk-container-id-3 div.sk-toggleable {background-color: white;}#sk-container-id-3 label.sk-toggleable__label {cursor: pointer;display: block;width: 100%;margin-bottom: 0;padding: 0.3em;box-sizing: border-box;text-align: center;}#sk-container-id-3 label.sk-toggleable__label-arrow:before {content: \"▸\";float: left;margin-right: 0.25em;color: #696969;}#sk-container-id-3 label.sk-toggleable__label-arrow:hover:before {color: black;}#sk-container-id-3 div.sk-estimator:hover label.sk-toggleable__label-arrow:before {color: black;}#sk-container-id-3 div.sk-toggleable__content {max-height: 0;max-width: 0;overflow: hidden;text-align: left;background-color: #f0f8ff;}#sk-container-id-3 div.sk-toggleable__content pre {margin: 0.2em;color: black;border-radius: 0.25em;background-color: #f0f8ff;}#sk-container-id-3 input.sk-toggleable__control:checked~div.sk-toggleable__content {max-height: 200px;max-width: 100%;overflow: auto;}#sk-container-id-3 input.sk-toggleable__control:checked~label.sk-toggleable__label-arrow:before {content: \"▾\";}#sk-container-id-3 div.sk-estimator input.sk-toggleable__control:checked~label.sk-toggleable__label {background-color: #d4ebff;}#sk-container-id-3 div.sk-label input.sk-toggleable__control:checked~label.sk-toggleable__label {background-color: #d4ebff;}#sk-container-id-3 input.sk-hidden--visually {border: 0;clip: rect(1px 1px 1px 1px);clip: rect(1px, 1px, 1px, 1px);height: 1px;margin: -1px;overflow: hidden;padding: 0;position: absolute;width: 1px;}#sk-container-id-3 div.sk-estimator {font-family: monospace;background-color: #f0f8ff;border: 1px dotted black;border-radius: 0.25em;box-sizing: border-box;margin-bottom: 0.5em;}#sk-container-id-3 div.sk-estimator:hover {background-color: #d4ebff;}#sk-container-id-3 div.sk-parallel-item::after {content: \"\";width: 100%;border-bottom: 1px solid gray;flex-grow: 1;}#sk-container-id-3 div.sk-label:hover label.sk-toggleable__label {background-color: #d4ebff;}#sk-container-id-3 div.sk-serial::before {content: \"\";position: absolute;border-left: 1px solid gray;box-sizing: border-box;top: 0;bottom: 0;left: 50%;z-index: 0;}#sk-container-id-3 div.sk-serial {display: flex;flex-direction: column;align-items: center;background-color: white;padding-right: 0.2em;padding-left: 0.2em;position: relative;}#sk-container-id-3 div.sk-item {position: relative;z-index: 1;}#sk-container-id-3 div.sk-parallel {display: flex;align-items: stretch;justify-content: center;background-color: white;position: relative;}#sk-container-id-3 div.sk-item::before, #sk-container-id-3 div.sk-parallel-item::before {content: \"\";position: absolute;border-left: 1px solid gray;box-sizing: border-box;top: 0;bottom: 0;left: 50%;z-index: -1;}#sk-container-id-3 div.sk-parallel-item {display: flex;flex-direction: column;z-index: 1;position: relative;background-color: white;}#sk-container-id-3 div.sk-parallel-item:first-child::after {align-self: flex-end;width: 50%;}#sk-container-id-3 div.sk-parallel-item:last-child::after {align-self: flex-start;width: 50%;}#sk-container-id-3 div.sk-parallel-item:only-child::after {width: 0;}#sk-container-id-3 div.sk-dashed-wrapped {border: 1px dashed gray;margin: 0 0.4em 0.5em 0.4em;box-sizing: border-box;padding-bottom: 0.4em;background-color: white;}#sk-container-id-3 div.sk-label label {font-family: monospace;font-weight: bold;display: inline-block;line-height: 1.2em;}#sk-container-id-3 div.sk-label-container {text-align: center;}#sk-container-id-3 div.sk-container {/* jupyter's `normalize.less` sets `[hidden] { display: none; }` but bootstrap.min.css set `[hidden] { display: none !important; }` so we also need the `!important` here to be able to override the default hidden behavior on the sphinx rendered scikit-learn.org. See: https://github.com/scikit-learn/scikit-learn/issues/21755 */display: inline-block !important;position: relative;}#sk-container-id-3 div.sk-text-repr-fallback {display: none;}</style><div id=\"sk-container-id-3\" class=\"sk-top-container\"><div class=\"sk-text-repr-fallback\"><pre>SVC(kernel=&#x27;linear&#x27;)</pre><b>In a Jupyter environment, please rerun this cell to show the HTML representation or trust the notebook. <br />On GitHub, the HTML representation is unable to render, please try loading this page with nbviewer.org.</b></div><div class=\"sk-container\" hidden><div class=\"sk-item\"><div class=\"sk-estimator sk-toggleable\"><input class=\"sk-toggleable__control sk-hidden--visually\" id=\"sk-estimator-id-3\" type=\"checkbox\" checked><label for=\"sk-estimator-id-3\" class=\"sk-toggleable__label sk-toggleable__label-arrow\">SVC</label><div class=\"sk-toggleable__content\"><pre>SVC(kernel=&#x27;linear&#x27;)</pre></div></div></div></div></div>"
     },
     "execution_count": 30,
     "metadata": {},
     "output_type": "execute_result"
    }
   ],
   "source": [
    "# Train a Support Vector Machine (SVM) classifier\n",
    "svm_classifier = SVC(kernel='linear', C=1.0)\n",
    "svm_classifier.fit(X_train, y_train)"
   ],
   "metadata": {
    "collapsed": false,
    "ExecuteTime": {
     "end_time": "2024-01-16T10:20:40.880829Z",
     "start_time": "2024-01-16T10:20:09.715781Z"
    }
   },
   "id": "ccecb20dc47f7558",
   "execution_count": 30
  },
  {
   "cell_type": "code",
   "outputs": [],
   "source": [
    "y_pred_test = svm_classifier.predict(X_test)"
   ],
   "metadata": {
    "collapsed": false,
    "ExecuteTime": {
     "end_time": "2024-01-16T10:20:56.715582Z",
     "start_time": "2024-01-16T10:20:52.711437Z"
    }
   },
   "id": "a290de664f81fb66",
   "execution_count": 31
  },
  {
   "cell_type": "code",
   "outputs": [],
   "source": [
    "# Combine test data with predicted labels\n",
    "test_data['Predicted_Conference_Label'] = y_pred_test\n"
   ],
   "metadata": {
    "collapsed": false,
    "ExecuteTime": {
     "end_time": "2024-01-16T10:20:56.724234Z",
     "start_time": "2024-01-16T10:20:56.717876Z"
    }
   },
   "id": "b250d3b3fbfae719",
   "execution_count": 32
  },
  {
   "cell_type": "code",
   "outputs": [],
   "source": [
    "# Combine test data with predicted labels and ground truth labels\n",
    "evaluation_data = pd.DataFrame({'ID': test_data['ID'], 'Predicted_Conference_Label': y_pred_test})\n",
    "evaluation_data = pd.merge(evaluation_data, ground_truth_labels, on='ID')"
   ],
   "metadata": {
    "collapsed": false,
    "ExecuteTime": {
     "end_time": "2024-01-16T10:20:57.665165Z",
     "start_time": "2024-01-16T10:20:57.651153Z"
    }
   },
   "id": "bd7c172a4c154c32",
   "execution_count": 33
  },
  {
   "cell_type": "code",
   "outputs": [
    {
     "name": "stdout",
     "output_type": "stream",
     "text": [
      "Accuracy on the test set: 0.8639193596205159\n"
     ]
    }
   ],
   "source": [
    "# Calculate accuracy\n",
    "accuracy = (evaluation_data['Predicted_Conference_Label'] == evaluation_data['Conference']).mean()\n",
    "print(f\"Accuracy on the test set: {accuracy}\")"
   ],
   "metadata": {
    "collapsed": false,
    "ExecuteTime": {
     "end_time": "2024-01-16T10:23:30.273206Z",
     "start_time": "2024-01-16T10:23:30.266077Z"
    }
   },
   "id": "71a437dbb15938dc",
   "execution_count": 36
  },
  {
   "cell_type": "markdown",
   "source": [
    "5.3.2 Named Entity Recognition\n",
    "• Design and implement a system to extract and classify named entities in tweets.\n",
    "• The system should use the provided NER Twitter training data. You should implement the sub-tasks\n",
    "(feature extraction, and classifier) by yourself.\n",
    "• You are free to select the algorithms you prefer for each sub-task. However, it is recommended that you test and compare multiple methods.\n",
    "• Evaluate you system on the training set by using the cross-validation approach.\n",
    "• Evaluation should be done in terms of micro-average of precision, recall and F1 measures.\n",
    "• Evaluate your best model you found on the training set on the test set. Report your results."
   ],
   "metadata": {
    "collapsed": false
   },
   "id": "d21f386fe97a4843"
  }
 ],
 "metadata": {
  "kernelspec": {
   "display_name": "Python 3",
   "language": "python",
   "name": "python3"
  },
  "language_info": {
   "codemirror_mode": {
    "name": "ipython",
    "version": 2
   },
   "file_extension": ".py",
   "mimetype": "text/x-python",
   "name": "python",
   "nbconvert_exporter": "python",
   "pygments_lexer": "ipython2",
   "version": "2.7.6"
  }
 },
 "nbformat": 4,
 "nbformat_minor": 5
}
