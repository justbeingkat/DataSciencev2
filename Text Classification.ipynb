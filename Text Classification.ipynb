{
 "cells": [
  {
   "cell_type": "markdown",
   "source": [
    "5.3.1 Text Classification\n",
    "• Design and implement a system to recommend a conference to a researcher given the title of his new article.\n",
    "• The system should use the provided Conference Proceedings training data. You should implement the sub-tasks (feature extraction, dimensionality reduction, and classifier) by yourself.\n",
    "• You are free to select the algorithms you prefer for each sub-task. However, it is recommended that you test and compare multiple methods.\n",
    "• Evaluate you system on the training set by using the cross-validation approach. Provide the confusion\n",
    "matrix of your system output.\n",
    "• Evaluation should be done in terms of Micro-average precision, recall and F1 measures.\n",
    "• Once you found the best model on the training set, evaluate your model on the test set and report the\n",
    "results."
   ],
   "metadata": {
    "collapsed": false
   },
   "id": "26b33ef2b8a38761"
  },
  {
   "cell_type": "code",
   "outputs": [],
   "source": [
    "from sklearn.decomposition import PCA\n",
    "from sklearn.svm import SVC\n",
    "from sklearn.ensemble import RandomForestClassifier\n",
    "from sklearn.feature_extraction.text import TfidfVectorizer\n",
    "import pandas as pd\n",
    "import numpy as np\n",
    "from sklearn.metrics import accuracy_score\n",
    "from gensim.models import Word2Vec\n",
    "from sklearn.model_selection import cross_val_predict\n",
    "from sklearn.metrics import confusion_matrix, precision_recall_fscore_support\n",
    "import seaborn as sns\n",
    "import matplotlib.pyplot as plt"
   ],
   "metadata": {
    "collapsed": true,
    "ExecuteTime": {
     "end_time": "2024-01-28T11:14:44.436687Z",
     "start_time": "2024-01-28T11:14:42.500226Z"
    }
   },
   "id": "initial_id",
   "execution_count": 17
  },
  {
   "cell_type": "code",
   "outputs": [],
   "source": [
    "train_data = pd.read_csv('DBLPTrainset.txt', sep='\\t', header=None, names=['ID', 'Conference', 'Title'])\n",
    "test_data = pd.read_csv('DBLPTestset.txt', sep='\\t', header=None, names=['ID', 'Title'])\n",
    "ground_truth_labels = pd.read_csv('DBLPTestGroundTruth.txt', sep='\\t', header=None, names=['ID', 'Conference'])"
   ],
   "metadata": {
    "collapsed": false,
    "ExecuteTime": {
     "end_time": "2024-01-28T10:36:43.610809Z",
     "start_time": "2024-01-28T10:36:43.551353Z"
    }
   },
   "id": "926ea59326c1df4d",
   "execution_count": 2
  },
  {
   "cell_type": "code",
   "outputs": [],
   "source": [
    "# Feature Extraction - TF-IDF\n",
    "tfidf_vectorizer = TfidfVectorizer(stop_words='english')\n",
    "X_train_tfidf = tfidf_vectorizer.fit_transform(train_data['Title'])\n",
    "X_test_tfidf = tfidf_vectorizer.transform(test_data['Title'])\n",
    "\n",
    "# Feature Extraction - Word Embeddings (Word2Vec)\n",
    "word2vec_model = Word2Vec(sentences=train_data['Title'].apply(str.split), vector_size=100, window=5, min_count=1, workers=4)\n",
    "\n",
    "def get_word_vector(words):\n",
    "    vectors = [word2vec_model.wv[word] for word in words if word in word2vec_model.wv]\n",
    "    return np.mean(vectors, axis=0) if vectors else np.zeros(word2vec_model.vector_size)\n",
    "\n",
    "X_train_word2vec = pd.DataFrame([get_word_vector(words) for words in train_data['Title'].apply(str.split)])\n",
    "X_test_word2vec = pd.DataFrame([get_word_vector(words) for words in test_data['Title'].apply(str.split)])"
   ],
   "metadata": {
    "collapsed": false,
    "ExecuteTime": {
     "end_time": "2024-01-28T10:36:47.730794Z",
     "start_time": "2024-01-28T10:36:43.617010Z"
    }
   },
   "id": "355c3cc7488b4265",
   "execution_count": 3
  },
  {
   "cell_type": "code",
   "outputs": [
    {
     "name": "stdout",
     "output_type": "stream",
     "text": [
      "Confusion Matrix (Cross-Validation): svc TFIDF\n",
      "[[3965  224   48  103  141]\n",
      " [ 232 7042  141   59   40]\n",
      " [  40  246 2258   56   78]\n",
      " [ 151  141   69 2927  390]\n",
      " [ 201  106  117  352 2516]]\n",
      "\n",
      "Micro-average Precision: 0.8643903340572009\n",
      "Micro-average Recall: 0.8643903340572009\n",
      "Micro-average F1: 0.8643903340572009\n"
     ]
    }
   ],
   "source": [
    "# svc with TF-IDF\n",
    "svc_tfidf_classifier = SVC(kernel='linear', C=1.0)\n",
    "svc_tfidf_classifier.fit(X_train_tfidf, train_data['Conference'])\n",
    "y_pred_cv = cross_val_predict(svc_tfidf_classifier, X_train_tfidf, train_data['Conference'], cv=5)\n",
    "conf_matrix_cv = confusion_matrix(train_data['Conference'], y_pred_cv)\n",
    "print(\"Confusion Matrix (Cross-Validation): svc TFIDF\")\n",
    "print(conf_matrix_cv)\n",
    "micro_avg_precision, micro_avg_recall, micro_avg_f1, _ = precision_recall_fscore_support(train_data['Conference'], y_pred_cv, average='micro')\n",
    "print(\"\\nMicro-average Precision:\", micro_avg_precision)\n",
    "print(\"Micro-average Recall:\", micro_avg_recall)\n",
    "print(\"Micro-average F1:\", micro_avg_f1)"
   ],
   "metadata": {
    "collapsed": false,
    "ExecuteTime": {
     "end_time": "2024-01-28T10:39:53.372056Z",
     "start_time": "2024-01-28T10:36:59.720300Z"
    }
   },
   "id": "ccbd55913233d5c4",
   "execution_count": 4
  },
  {
   "cell_type": "code",
   "outputs": [
    {
     "name": "stdout",
     "output_type": "stream",
     "text": [
      "\n",
      "Confusion Matrix (Cross-Validation): RF TFIDF\n",
      "[[3683  375  159  128  136]\n",
      " [ 285 6780  320   80   49]\n",
      " [  30  316 2187   68   77]\n",
      " [ 121  207  241 2758  351]\n",
      " [ 191  206  258  396 2241]]\n",
      "\n",
      "Micro-average Precision: 0.8154599639606339\n",
      "Micro-average Recall: 0.8154599639606339\n",
      "Micro-average F1: 0.8154599639606339\n"
     ]
    }
   ],
   "source": [
    "# Random Forest with TF-IDF\n",
    "rf_tfidf_classifier = RandomForestClassifier(n_estimators=100, random_state=42)\n",
    "rf_tfidf_classifier.fit(X_train_tfidf, train_data['Conference'])\n",
    "y_pred_cv = cross_val_predict(rf_tfidf_classifier, X_train_tfidf, train_data['Conference'], cv=5)\n",
    "conf_matrix_cv = confusion_matrix(train_data['Conference'], y_pred_cv)\n",
    "print(\"\\nConfusion Matrix (Cross-Validation): RF TFIDF\")\n",
    "print(conf_matrix_cv)\n",
    "micro_avg_precision, micro_avg_recall, micro_avg_f1, _ = precision_recall_fscore_support(train_data['Conference'], y_pred_cv, average='micro')\n",
    "print(\"\\nMicro-average Precision:\", micro_avg_precision)\n",
    "print(\"Micro-average Recall:\", micro_avg_recall)\n",
    "print(\"Micro-average F1:\", micro_avg_f1)"
   ],
   "metadata": {
    "collapsed": false,
    "ExecuteTime": {
     "end_time": "2024-01-28T10:45:26.553499Z",
     "start_time": "2024-01-28T10:39:53.372285Z"
    }
   },
   "id": "f92ac81bd7b852f3",
   "execution_count": 5
  },
  {
   "cell_type": "code",
   "outputs": [
    {
     "name": "stdout",
     "output_type": "stream",
     "text": [
      "\n",
      "Confusion Matrix (Cross-Validation): svc WORD2VEC\n",
      "[[2404 1358  144  445  130]\n",
      " [ 462 6501  181  221  149]\n",
      " [ 164 1611  590   68  245]\n",
      " [ 356  819  205 2154  144]\n",
      " [ 308 1154  217  250 1363]]\n",
      "\n",
      "Micro-average Precision: 0.6012105530656563\n",
      "Micro-average Recall: 0.6012105530656563\n",
      "Micro-average F1: 0.6012105530656563\n"
     ]
    }
   ],
   "source": [
    "# svc with Word2Vec\n",
    "svc_word2vec_classifier = SVC(kernel='linear', C=1.0)\n",
    "svc_word2vec_classifier.fit(X_train_word2vec, train_data['Conference'])\n",
    "y_pred_cv = cross_val_predict(svc_word2vec_classifier, X_train_word2vec, train_data['Conference'], cv=5)\n",
    "conf_matrix_cv = confusion_matrix(train_data['Conference'], y_pred_cv)\n",
    "print(\"\\nConfusion Matrix (Cross-Validation): svc WORD2VEC\")\n",
    "print(conf_matrix_cv)\n",
    "micro_avg_precision, micro_avg_recall, micro_avg_f1, _ = precision_recall_fscore_support(train_data['Conference'], y_pred_cv, average='micro')\n",
    "print(\"\\nMicro-average Precision:\", micro_avg_precision)\n",
    "print(\"Micro-average Recall:\", micro_avg_recall)\n",
    "print(\"Micro-average F1:\", micro_avg_f1)"
   ],
   "metadata": {
    "collapsed": false,
    "ExecuteTime": {
     "end_time": "2024-01-28T10:50:31.580415Z",
     "start_time": "2024-01-28T10:45:26.554834Z"
    }
   },
   "id": "54e2eb30aff44752",
   "execution_count": 6
  },
  {
   "cell_type": "code",
   "outputs": [
    {
     "name": "stdout",
     "output_type": "stream",
     "text": [
      "\n",
      "Confusion Matrix (Cross-Validation): RF WORD2VEC\n",
      "[[2598  909  157  594  223]\n",
      " [ 487 5846  343  448  390]\n",
      " [ 137 1180  860  157  344]\n",
      " [ 386  539  155 2430  168]\n",
      " [ 229 1036  372  319 1336]]\n",
      "\n",
      "Micro-average Precision: 0.6038904033636742\n",
      "Micro-average Recall: 0.6038904033636742\n",
      "Micro-average F1: 0.6038904033636742\n"
     ]
    }
   ],
   "source": [
    "# Random Forest with Word2Vec\n",
    "rf_word2vec_classifier = RandomForestClassifier(n_estimators=100, random_state=42)\n",
    "rf_word2vec_classifier.fit(X_train_word2vec, train_data['Conference'])\n",
    "y_pred_cv = cross_val_predict(rf_word2vec_classifier, X_train_word2vec, train_data['Conference'], cv=5)\n",
    "conf_matrix_cv = confusion_matrix(train_data['Conference'], y_pred_cv)\n",
    "print(\"\\nConfusion Matrix (Cross-Validation): RF WORD2VEC\")\n",
    "print(conf_matrix_cv)\n",
    "micro_avg_precision, micro_avg_recall, micro_avg_f1, _ = precision_recall_fscore_support(train_data['Conference'], y_pred_cv, average='micro')\n",
    "print(\"\\nMicro-average Precision:\", micro_avg_precision)\n",
    "print(\"Micro-average Recall:\", micro_avg_recall)\n",
    "print(\"Micro-average F1:\", micro_avg_f1)"
   ],
   "metadata": {
    "collapsed": false,
    "ExecuteTime": {
     "end_time": "2024-01-28T10:53:52.912956Z",
     "start_time": "2024-01-28T10:50:31.581281Z"
    }
   },
   "id": "ccecb20dc47f7558",
   "execution_count": 7
  },
  {
   "cell_type": "code",
   "outputs": [],
   "source": [
    "pca = PCA(n_components=50)\n",
    "X_train_tfidf_pca = X_train_tfidf.toarray()\n",
    "X_test_tfidf_pca = X_test_tfidf.toarray()\n",
    "X_train_tfidf_pca = pca.fit_transform(X_train_tfidf_pca)\n",
    "X_test_tfidf_pca = pca.transform(X_test_tfidf_pca)\n",
    "\n",
    "X_train_word2vec_pca = pca.fit_transform(X_train_word2vec)\n",
    "X_test_word2vec_pca = pca.transform(X_test_word2vec)"
   ],
   "metadata": {
    "collapsed": false,
    "ExecuteTime": {
     "end_time": "2024-01-28T10:54:21.349598Z",
     "start_time": "2024-01-28T10:53:52.912808Z"
    }
   },
   "id": "c7a0977faf0fe748",
   "execution_count": 8
  },
  {
   "cell_type": "code",
   "outputs": [
    {
     "name": "stdout",
     "output_type": "stream",
     "text": [
      "Confusion Matrix (Cross-Validation): svc TFIDF\n",
      "[[3241  705  251  143  141]\n",
      " [ 397 6601  383   86   47]\n",
      " [  31  597 1918   64   68]\n",
      " [ 151  448  518 2237  324]\n",
      " [ 209  324  561  398 1800]]\n",
      "\n",
      "Micro-average Precision: 0.7298895716859954\n",
      "Micro-average Recall: 0.7298895716859954\n",
      "Micro-average F1: 0.7298895716859954\n"
     ]
    }
   ],
   "source": [
    "# svc with TF-IDF\n",
    "svc_tfidf_classifier = SVC(kernel='linear', C=1.0)\n",
    "svc_tfidf_classifier.fit(X_train_tfidf_pca, train_data['Conference'])\n",
    "y_pred_cv = cross_val_predict(svc_tfidf_classifier, X_train_tfidf_pca, train_data['Conference'], cv=5)\n",
    "conf_matrix_cv = confusion_matrix(train_data['Conference'], y_pred_cv)\n",
    "print(\"Confusion Matrix (Cross-Validation): svc TFIDF\")\n",
    "print(conf_matrix_cv)\n",
    "micro_avg_precision, micro_avg_recall, micro_avg_f1, _ = precision_recall_fscore_support(train_data['Conference'], y_pred_cv, average='micro')\n",
    "print(\"\\nMicro-average Precision:\", micro_avg_precision)\n",
    "print(\"Micro-average Recall:\", micro_avg_recall)\n",
    "print(\"Micro-average F1:\", micro_avg_f1)"
   ],
   "metadata": {
    "collapsed": false,
    "ExecuteTime": {
     "end_time": "2024-01-28T10:56:26.674727Z",
     "start_time": "2024-01-28T10:54:21.355064Z"
    }
   },
   "id": "32769aaca6d46afe",
   "execution_count": 9
  },
  {
   "cell_type": "code",
   "outputs": [
    {
     "name": "stdout",
     "output_type": "stream",
     "text": [
      "\n",
      "Confusion Matrix (Cross-Validation): RF TFIDF\n",
      "[[3572  486   88  161  174]\n",
      " [ 431 6606  218  150  109]\n",
      " [  94  500 1797  145  142]\n",
      " [ 210  275  147 2614  432]\n",
      " [ 286  201  169  472 2164]]\n",
      "\n",
      "Micro-average Precision: 0.7740608972878067\n",
      "Micro-average Recall: 0.7740608972878067\n",
      "Micro-average F1: 0.7740608972878067\n"
     ]
    }
   ],
   "source": [
    "# Random Forest with TF-IDF\n",
    "rf_tfidf_classifier = RandomForestClassifier(n_estimators=100, random_state=42)\n",
    "rf_tfidf_classifier.fit(X_train_tfidf_pca, train_data['Conference'])\n",
    "y_pred_cv = cross_val_predict(rf_tfidf_classifier, X_train_tfidf_pca, train_data['Conference'], cv=5)\n",
    "conf_matrix_cv = confusion_matrix(train_data['Conference'], y_pred_cv)\n",
    "print(\"\\nConfusion Matrix (Cross-Validation): RF TFIDF\")\n",
    "print(conf_matrix_cv)\n",
    "micro_avg_precision, micro_avg_recall, micro_avg_f1, _ = precision_recall_fscore_support(train_data['Conference'], y_pred_cv, average='micro')\n",
    "print(\"\\nMicro-average Precision:\", micro_avg_precision)\n",
    "print(\"Micro-average Recall:\", micro_avg_recall)\n",
    "print(\"Micro-average F1:\", micro_avg_f1)"
   ],
   "metadata": {
    "collapsed": false,
    "ExecuteTime": {
     "end_time": "2024-01-28T10:58:53.682359Z",
     "start_time": "2024-01-28T10:56:26.687516Z"
    }
   },
   "id": "df635948ae40a661",
   "execution_count": 10
  },
  {
   "cell_type": "code",
   "outputs": [
    {
     "name": "stdout",
     "output_type": "stream",
     "text": [
      "\n",
      "Confusion Matrix (Cross-Validation): svc WORD2VEC\n",
      "[[2405 1356  141  448  131]\n",
      " [ 465 6496  182  221  150]\n",
      " [ 165 1607  591   69  246]\n",
      " [ 354  821  207 2151  145]\n",
      " [ 307 1156  217  250 1362]]\n",
      "\n",
      "Micro-average Precision: 0.6008871228572749\n",
      "Micro-average Recall: 0.6008871228572749\n",
      "Micro-average F1: 0.6008871228572749\n"
     ]
    }
   ],
   "source": [
    "# svc with Word2Vec\n",
    "svc_word2vec_classifier = SVC(kernel='linear', C=1.0)\n",
    "svc_word2vec_classifier.fit(X_train_word2vec_pca, train_data['Conference'])\n",
    "y_pred_cv = cross_val_predict(svc_word2vec_classifier, X_train_word2vec_pca, train_data['Conference'], cv=5)\n",
    "conf_matrix_cv = confusion_matrix(train_data['Conference'], y_pred_cv)\n",
    "print(\"\\nConfusion Matrix (Cross-Validation): svc WORD2VEC\")\n",
    "print(conf_matrix_cv)\n",
    "micro_avg_precision, micro_avg_recall, micro_avg_f1, _ = precision_recall_fscore_support(train_data['Conference'], y_pred_cv, average='micro')\n",
    "print(\"\\nMicro-average Precision:\", micro_avg_precision)\n",
    "print(\"Micro-average Recall:\", micro_avg_recall)\n",
    "print(\"Micro-average F1:\", micro_avg_f1)"
   ],
   "metadata": {
    "collapsed": false,
    "ExecuteTime": {
     "end_time": "2024-01-28T11:02:08.522643Z",
     "start_time": "2024-01-28T10:58:53.684112Z"
    }
   },
   "id": "dac61dcc575b0db1",
   "execution_count": 11
  },
  {
   "cell_type": "code",
   "outputs": [
    {
     "name": "stdout",
     "output_type": "stream",
     "text": [
      "\n",
      "Confusion Matrix (Cross-Validation): RF WORD2VEC\n",
      "[[2769 1008  140  381  183]\n",
      " [ 423 6501  239  199  152]\n",
      " [ 108 1229  967  119  255]\n",
      " [ 272  495  178 2521  212]\n",
      " [ 159  807  263  280 1783]]\n",
      "\n",
      "Micro-average Precision: 0.6718569514392644\n",
      "Micro-average Recall: 0.6718569514392644\n",
      "Micro-average F1: 0.6718569514392644\n"
     ]
    }
   ],
   "source": [
    "# Random Forest with Word2Vec\n",
    "rf_word2vec_classifier = RandomForestClassifier(n_estimators=100, random_state=42)\n",
    "rf_word2vec_classifier.fit(X_train_word2vec_pca, train_data['Conference'])\n",
    "y_pred_cv = cross_val_predict(rf_word2vec_classifier, X_train_word2vec_pca, train_data['Conference'], cv=5)\n",
    "conf_matrix_cv = confusion_matrix(train_data['Conference'], y_pred_cv)\n",
    "print(\"\\nConfusion Matrix (Cross-Validation): RF WORD2VEC\")\n",
    "print(conf_matrix_cv)\n",
    "micro_avg_precision, micro_avg_recall, micro_avg_f1, _ = precision_recall_fscore_support(train_data['Conference'], y_pred_cv, average='micro')\n",
    "print(\"\\nMicro-average Precision:\", micro_avg_precision)\n",
    "print(\"Micro-average Recall:\", micro_avg_recall)\n",
    "print(\"Micro-average F1:\", micro_avg_f1)"
   ],
   "metadata": {
    "collapsed": false,
    "ExecuteTime": {
     "end_time": "2024-01-28T11:04:45.143436Z",
     "start_time": "2024-01-28T11:02:08.533287Z"
    }
   },
   "id": "5ec3402773289d53",
   "execution_count": 12
  },
  {
   "cell_type": "code",
   "outputs": [
    {
     "name": "stdout",
     "output_type": "stream",
     "text": [
      "\n",
      "Confusion Matrix (Cross-Validation): RF WORD2VEC\n",
      "[[ 393   40    8   29   32]\n",
      " [  82 1887   35   29   10]\n",
      " [   0   20  156    8    2]\n",
      " [  11    7    4  165   32]\n",
      " [  23   17   16   54  313]]\n",
      "Test Set Evaluation: SVC TFIDF\n",
      "Accuracy: 0.8639193596205159\n",
      "Precision (Micro): 0.8639193596205159\n",
      "Recall (Micro): 0.8639193596205159\n",
      "F1 Score (Micro): 0.8639193596205159\n"
     ]
    },
    {
     "data": {
      "text/plain": "<Figure size 800x600 with 2 Axes>",
      "image/png": "[encoded data removed]"
     },
     "metadata": {},
     "output_type": "display_data"
    }
   ],
   "source": [
    "#Best model: SVC with TFIDF without dimensionality reduction\n",
    "svc_tfidf_classifier = SVC(kernel='linear', C=1.0)\n",
    "svc_tfidf_classifier.fit(X_train_tfidf, train_data['Conference'])\n",
    "y_pred = svc_tfidf_classifier.predict(X_test_tfidf)\n",
    "\n",
    "conf_matrix_cv = confusion_matrix(ground_truth_labels['Conference'], y_pred)\n",
    "print(\"\\nConfusion Matrix (Cross-Validation): RF WORD2VEC\")\n",
    "print(conf_matrix_cv)\n",
    "\n",
    "# Evaluate on the test set\n",
    "accuracy_test_svc_tfidf = accuracy_score(ground_truth_labels['Conference'], y_pred)\n",
    "\n",
    "# Precision, Recall, F1\n",
    "precision, recall, f1, _ = precision_recall_fscore_support(ground_truth_labels['Conference'], y_pred, average='micro')\n",
    "\n",
    "# Print the results\n",
    "print(\"Test Set Evaluation: SVC TFIDF\")\n",
    "print(\"Accuracy:\", accuracy_test_svc_tfidf)\n",
    "print(\"Precision (Micro):\", precision)\n",
    "print(\"Recall (Micro):\", recall)\n",
    "print(\"F1 Score (Micro):\", f1)\n",
    "\n",
    "# Set the font scale for better visualization\n",
    "sns.set(font_scale=1.2)\n",
    "\n",
    "# Create a heatmap\n",
    "plt.figure(figsize=(8, 6))\n",
    "sns.heatmap(conf_matrix_cv, xticklabels=svc_tfidf_classifier.classes_, yticklabels=svc_tfidf_classifier.classes_)\n",
    "\n",
    "# Add labels and title\n",
    "plt.xlabel('Predicted')\n",
    "plt.ylabel('True')\n",
    "plt.title('Confusion Matrix: SVC TFIDF')\n",
    "\n",
    "# Show the plot\n",
    "plt.show()"
   ],
   "metadata": {
    "collapsed": false,
    "ExecuteTime": {
     "end_time": "2024-01-28T11:37:56.144317Z",
     "start_time": "2024-01-28T11:37:18.199547Z"
    }
   },
   "id": "54cb0dd735be51da",
   "execution_count": 22
  },
  {
   "cell_type": "code",
   "outputs": [
    {
     "name": "stdout",
     "output_type": "stream",
     "text": [
      "Predicted Conference: VLDB\n"
     ]
    }
   ],
   "source": [
    "# Assuming 'input_title' is the title of the conference paper you want to classify\n",
    "input_title = \"Designing novel databases with SQL\"\n",
    "\n",
    "# Preprocess the input title (make sure it's in the same format as your training data)\n",
    "input_title_tfidf = tfidf_vectorizer.transform([input_title])\n",
    "\n",
    "# Use the trained SVM model to make predictions\n",
    "predicted_conference = svc_tfidf_classifier.predict(input_title_tfidf)\n",
    "\n",
    "print(\"Predicted Conference:\", predicted_conference[0])"
   ],
   "metadata": {
    "collapsed": false,
    "ExecuteTime": {
     "end_time": "2024-01-28T11:07:25.997782Z",
     "start_time": "2024-01-28T11:07:25.986560Z"
    }
   },
   "id": "67b2a849f8e9ea15",
   "execution_count": 16
  }
 ],
 "metadata": {
  "kernelspec": {
   "display_name": "Python 3",
   "language": "python",
   "name": "python3"
  },
  "language_info": {
   "codemirror_mode": {
    "name": "ipython",
    "version": 2
   },
   "file_extension": ".py",
   "mimetype": "text/x-python",
   "name": "python",
   "nbconvert_exporter": "python",
   "pygments_lexer": "ipython2",
   "version": "2.7.6"
  }
 },
 "nbformat": 4,
 "nbformat_minor": 5
}
